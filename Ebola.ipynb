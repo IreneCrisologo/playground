{
 "cells": [
  {
   "cell_type": "code",
   "execution_count": 7,
   "metadata": {
    "ExecuteTime": {
     "end_time": "2020-04-26T01:45:24.107047Z",
     "start_time": "2020-04-26T01:45:23.580653Z"
    }
   },
   "outputs": [],
   "source": [
    "import numpy as np\n",
    "import pandas as pd\n",
    "import os\n",
    "import matplotlib.pyplot as plt"
   ]
  },
  {
   "cell_type": "code",
   "execution_count": 3,
   "metadata": {
    "ExecuteTime": {
     "end_time": "2020-04-26T01:44:57.904599Z",
     "start_time": "2020-04-26T01:44:57.852492Z"
    }
   },
   "outputs": [],
   "source": [
    "df = pd.read_csv('ebola_2014_2016_clean.csv')"
   ]
  },
  {
   "cell_type": "code",
   "execution_count": 16,
   "metadata": {
    "ExecuteTime": {
     "end_time": "2020-04-26T02:20:33.559414Z",
     "start_time": "2020-04-26T02:20:33.549255Z"
    }
   },
   "outputs": [
    {
     "name": "stdout",
     "output_type": "stream",
     "text": [
      "<class 'pandas.core.frame.DataFrame'>\n",
      "RangeIndex: 2485 entries, 0 to 2484\n",
      "Data columns (total 10 columns):\n",
      "Country                                            2485 non-null object\n",
      "Date                                               2485 non-null object\n",
      "No. of suspected cases                             2366 non-null float64\n",
      "No. of probable cases                              2436 non-null float64\n",
      "No. of confirmed cases                             2484 non-null float64\n",
      "No. of confirmed, probable and suspected cases     2477 non-null float64\n",
      "No. of suspected deaths                            1308 non-null float64\n",
      "No. of probable deaths                             1526 non-null float64\n",
      "No. of confirmed deaths                            1648 non-null float64\n",
      "No. of confirmed, probable and suspected deaths    2485 non-null float64\n",
      "dtypes: float64(8), object(2)\n",
      "memory usage: 194.3+ KB\n"
     ]
    }
   ],
   "source": [
    "df.info()"
   ]
  },
  {
   "cell_type": "code",
   "execution_count": 4,
   "metadata": {
    "ExecuteTime": {
     "end_time": "2020-04-26T01:45:02.998438Z",
     "start_time": "2020-04-26T01:45:02.940951Z"
    }
   },
   "outputs": [
    {
     "data": {
      "text/html": [
       "<div>\n",
       "<style scoped>\n",
       "    .dataframe tbody tr th:only-of-type {\n",
       "        vertical-align: middle;\n",
       "    }\n",
       "\n",
       "    .dataframe tbody tr th {\n",
       "        vertical-align: top;\n",
       "    }\n",
       "\n",
       "    .dataframe thead th {\n",
       "        text-align: right;\n",
       "    }\n",
       "</style>\n",
       "<table border=\"1\" class=\"dataframe\">\n",
       "  <thead>\n",
       "    <tr style=\"text-align: right;\">\n",
       "      <th></th>\n",
       "      <th>Country</th>\n",
       "      <th>Date</th>\n",
       "      <th>No. of suspected cases</th>\n",
       "      <th>No. of probable cases</th>\n",
       "      <th>No. of confirmed cases</th>\n",
       "      <th>No. of confirmed, probable and suspected cases</th>\n",
       "      <th>No. of suspected deaths</th>\n",
       "      <th>No. of probable deaths</th>\n",
       "      <th>No. of confirmed deaths</th>\n",
       "      <th>No. of confirmed, probable and suspected deaths</th>\n",
       "    </tr>\n",
       "  </thead>\n",
       "  <tbody>\n",
       "    <tr>\n",
       "      <th>0</th>\n",
       "      <td>Guinea</td>\n",
       "      <td>2014-08-29</td>\n",
       "      <td>25.0</td>\n",
       "      <td>141.0</td>\n",
       "      <td>482.0</td>\n",
       "      <td>648.0</td>\n",
       "      <td>2.0</td>\n",
       "      <td>141.0</td>\n",
       "      <td>287.0</td>\n",
       "      <td>430.0</td>\n",
       "    </tr>\n",
       "    <tr>\n",
       "      <th>1</th>\n",
       "      <td>Nigeria</td>\n",
       "      <td>2014-08-29</td>\n",
       "      <td>3.0</td>\n",
       "      <td>1.0</td>\n",
       "      <td>15.0</td>\n",
       "      <td>19.0</td>\n",
       "      <td>0.0</td>\n",
       "      <td>1.0</td>\n",
       "      <td>6.0</td>\n",
       "      <td>7.0</td>\n",
       "    </tr>\n",
       "    <tr>\n",
       "      <th>2</th>\n",
       "      <td>Sierra Leone</td>\n",
       "      <td>2014-08-29</td>\n",
       "      <td>54.0</td>\n",
       "      <td>37.0</td>\n",
       "      <td>935.0</td>\n",
       "      <td>1026.0</td>\n",
       "      <td>8.0</td>\n",
       "      <td>34.0</td>\n",
       "      <td>380.0</td>\n",
       "      <td>422.0</td>\n",
       "    </tr>\n",
       "    <tr>\n",
       "      <th>3</th>\n",
       "      <td>Liberia</td>\n",
       "      <td>2014-08-29</td>\n",
       "      <td>382.0</td>\n",
       "      <td>674.0</td>\n",
       "      <td>322.0</td>\n",
       "      <td>1378.0</td>\n",
       "      <td>168.0</td>\n",
       "      <td>301.0</td>\n",
       "      <td>225.0</td>\n",
       "      <td>694.0</td>\n",
       "    </tr>\n",
       "    <tr>\n",
       "      <th>4</th>\n",
       "      <td>Sierra Leone</td>\n",
       "      <td>2014-09-05</td>\n",
       "      <td>78.0</td>\n",
       "      <td>37.0</td>\n",
       "      <td>1146.0</td>\n",
       "      <td>1261.0</td>\n",
       "      <td>11.0</td>\n",
       "      <td>37.0</td>\n",
       "      <td>443.0</td>\n",
       "      <td>491.0</td>\n",
       "    </tr>\n",
       "  </tbody>\n",
       "</table>\n",
       "</div>"
      ],
      "text/plain": [
       "        Country        Date  No. of suspected cases  No. of probable cases  \\\n",
       "0        Guinea  2014-08-29                    25.0                  141.0   \n",
       "1       Nigeria  2014-08-29                     3.0                    1.0   \n",
       "2  Sierra Leone  2014-08-29                    54.0                   37.0   \n",
       "3       Liberia  2014-08-29                   382.0                  674.0   \n",
       "4  Sierra Leone  2014-09-05                    78.0                   37.0   \n",
       "\n",
       "   No. of confirmed cases  No. of confirmed, probable and suspected cases  \\\n",
       "0                   482.0                                           648.0   \n",
       "1                    15.0                                            19.0   \n",
       "2                   935.0                                          1026.0   \n",
       "3                   322.0                                          1378.0   \n",
       "4                  1146.0                                          1261.0   \n",
       "\n",
       "   No. of suspected deaths  No. of probable deaths  No. of confirmed deaths  \\\n",
       "0                      2.0                   141.0                    287.0   \n",
       "1                      0.0                     1.0                      6.0   \n",
       "2                      8.0                    34.0                    380.0   \n",
       "3                    168.0                   301.0                    225.0   \n",
       "4                     11.0                    37.0                    443.0   \n",
       "\n",
       "   No. of confirmed, probable and suspected deaths  \n",
       "0                                            430.0  \n",
       "1                                              7.0  \n",
       "2                                            422.0  \n",
       "3                                            694.0  \n",
       "4                                            491.0  "
      ]
     },
     "execution_count": 4,
     "metadata": {},
     "output_type": "execute_result"
    }
   ],
   "source": [
    "df.head()"
   ]
  },
  {
   "cell_type": "code",
   "execution_count": 6,
   "metadata": {
    "ExecuteTime": {
     "end_time": "2020-04-26T01:45:11.577511Z",
     "start_time": "2020-04-26T01:45:11.572518Z"
    }
   },
   "outputs": [
    {
     "data": {
      "text/plain": [
       "Index(['Country', 'Date', 'No. of suspected cases', 'No. of probable cases',\n",
       "       'No. of confirmed cases',\n",
       "       'No. of confirmed, probable and suspected cases',\n",
       "       'No. of suspected deaths', 'No. of probable deaths',\n",
       "       'No. of confirmed deaths',\n",
       "       'No. of confirmed, probable and suspected deaths'],\n",
       "      dtype='object')"
      ]
     },
     "execution_count": 6,
     "metadata": {},
     "output_type": "execute_result"
    }
   ],
   "source": [
    "df.columns"
   ]
  },
  {
   "cell_type": "code",
   "execution_count": 13,
   "metadata": {
    "ExecuteTime": {
     "end_time": "2020-04-26T02:11:54.309918Z",
     "start_time": "2020-04-26T02:11:54.303933Z"
    }
   },
   "outputs": [
    {
     "data": {
      "text/plain": [
       "array(['Guinea', 'Nigeria', 'Sierra Leone', 'Liberia', 'Senegal',\n",
       "       'United States of America', 'Spain', 'Mali', 'United Kingdom',\n",
       "       'Italy'], dtype=object)"
      ]
     },
     "execution_count": 13,
     "metadata": {},
     "output_type": "execute_result"
    }
   ],
   "source": [
    "df.Country.unique()"
   ]
  },
  {
   "cell_type": "code",
   "execution_count": 22,
   "metadata": {
    "ExecuteTime": {
     "end_time": "2020-04-26T02:42:13.122710Z",
     "start_time": "2020-04-26T02:42:13.116848Z"
    }
   },
   "outputs": [],
   "source": [
    "df_SL = df.loc[df.Country=='Sierra Leone']\n",
    "df_NG = df.loc[df.Country=='United States of America']"
   ]
  },
  {
   "cell_type": "code",
   "execution_count": 23,
   "metadata": {
    "ExecuteTime": {
     "end_time": "2020-04-26T02:42:13.822718Z",
     "start_time": "2020-04-26T02:42:13.809717Z"
    }
   },
   "outputs": [
    {
     "data": {
      "text/html": [
       "<div>\n",
       "<style scoped>\n",
       "    .dataframe tbody tr th:only-of-type {\n",
       "        vertical-align: middle;\n",
       "    }\n",
       "\n",
       "    .dataframe tbody tr th {\n",
       "        vertical-align: top;\n",
       "    }\n",
       "\n",
       "    .dataframe thead th {\n",
       "        text-align: right;\n",
       "    }\n",
       "</style>\n",
       "<table border=\"1\" class=\"dataframe\">\n",
       "  <thead>\n",
       "    <tr style=\"text-align: right;\">\n",
       "      <th></th>\n",
       "      <th>Country</th>\n",
       "      <th>Date</th>\n",
       "      <th>No. of suspected cases</th>\n",
       "      <th>No. of probable cases</th>\n",
       "      <th>No. of confirmed cases</th>\n",
       "      <th>No. of confirmed, probable and suspected cases</th>\n",
       "      <th>No. of suspected deaths</th>\n",
       "      <th>No. of probable deaths</th>\n",
       "      <th>No. of confirmed deaths</th>\n",
       "      <th>No. of confirmed, probable and suspected deaths</th>\n",
       "    </tr>\n",
       "  </thead>\n",
       "  <tbody>\n",
       "    <tr>\n",
       "      <th>49</th>\n",
       "      <td>United States of America</td>\n",
       "      <td>2014-10-03</td>\n",
       "      <td>NaN</td>\n",
       "      <td>NaN</td>\n",
       "      <td>1.0</td>\n",
       "      <td>1.0</td>\n",
       "      <td>NaN</td>\n",
       "      <td>NaN</td>\n",
       "      <td>0.0</td>\n",
       "      <td>0.0</td>\n",
       "    </tr>\n",
       "    <tr>\n",
       "      <th>56</th>\n",
       "      <td>United States of America</td>\n",
       "      <td>2014-10-08</td>\n",
       "      <td>NaN</td>\n",
       "      <td>NaN</td>\n",
       "      <td>1.0</td>\n",
       "      <td>1.0</td>\n",
       "      <td>NaN</td>\n",
       "      <td>NaN</td>\n",
       "      <td>0.0</td>\n",
       "      <td>0.0</td>\n",
       "    </tr>\n",
       "    <tr>\n",
       "      <th>61</th>\n",
       "      <td>United States of America</td>\n",
       "      <td>2014-10-10</td>\n",
       "      <td>NaN</td>\n",
       "      <td>NaN</td>\n",
       "      <td>1.0</td>\n",
       "      <td>1.0</td>\n",
       "      <td>NaN</td>\n",
       "      <td>NaN</td>\n",
       "      <td>0.0</td>\n",
       "      <td>0.0</td>\n",
       "    </tr>\n",
       "    <tr>\n",
       "      <th>68</th>\n",
       "      <td>United States of America</td>\n",
       "      <td>2014-10-15</td>\n",
       "      <td>NaN</td>\n",
       "      <td>NaN</td>\n",
       "      <td>2.0</td>\n",
       "      <td>2.0</td>\n",
       "      <td>NaN</td>\n",
       "      <td>NaN</td>\n",
       "      <td>1.0</td>\n",
       "      <td>1.0</td>\n",
       "    </tr>\n",
       "    <tr>\n",
       "      <th>79</th>\n",
       "      <td>United States of America</td>\n",
       "      <td>2014-10-17</td>\n",
       "      <td>NaN</td>\n",
       "      <td>NaN</td>\n",
       "      <td>3.0</td>\n",
       "      <td>3.0</td>\n",
       "      <td>NaN</td>\n",
       "      <td>NaN</td>\n",
       "      <td>1.0</td>\n",
       "      <td>1.0</td>\n",
       "    </tr>\n",
       "  </tbody>\n",
       "</table>\n",
       "</div>"
      ],
      "text/plain": [
       "                     Country        Date  No. of suspected cases  \\\n",
       "49  United States of America  2014-10-03                     NaN   \n",
       "56  United States of America  2014-10-08                     NaN   \n",
       "61  United States of America  2014-10-10                     NaN   \n",
       "68  United States of America  2014-10-15                     NaN   \n",
       "79  United States of America  2014-10-17                     NaN   \n",
       "\n",
       "    No. of probable cases  No. of confirmed cases  \\\n",
       "49                    NaN                     1.0   \n",
       "56                    NaN                     1.0   \n",
       "61                    NaN                     1.0   \n",
       "68                    NaN                     2.0   \n",
       "79                    NaN                     3.0   \n",
       "\n",
       "    No. of confirmed, probable and suspected cases  No. of suspected deaths  \\\n",
       "49                                             1.0                      NaN   \n",
       "56                                             1.0                      NaN   \n",
       "61                                             1.0                      NaN   \n",
       "68                                             2.0                      NaN   \n",
       "79                                             3.0                      NaN   \n",
       "\n",
       "    No. of probable deaths  No. of confirmed deaths  \\\n",
       "49                     NaN                      0.0   \n",
       "56                     NaN                      0.0   \n",
       "61                     NaN                      0.0   \n",
       "68                     NaN                      1.0   \n",
       "79                     NaN                      1.0   \n",
       "\n",
       "    No. of confirmed, probable and suspected deaths  \n",
       "49                                              0.0  \n",
       "56                                              0.0  \n",
       "61                                              0.0  \n",
       "68                                              1.0  \n",
       "79                                              1.0  "
      ]
     },
     "execution_count": 23,
     "metadata": {},
     "output_type": "execute_result"
    }
   ],
   "source": [
    "df_NG.head()"
   ]
  },
  {
   "cell_type": "code",
   "execution_count": 24,
   "metadata": {
    "ExecuteTime": {
     "end_time": "2020-04-26T02:42:16.889607Z",
     "start_time": "2020-04-26T02:42:14.155992Z"
    }
   },
   "outputs": [
    {
     "data": {
      "text/plain": [
       "[<matplotlib.lines.Line2D at 0x232e17b8710>]"
      ]
     },
     "execution_count": 24,
     "metadata": {},
     "output_type": "execute_result"
    },
    {
     "data": {
      "image/png": "[encoded data removed]",
      "text/plain": [
       "<Figure size 720x288 with 1 Axes>"
      ]
     },
     "metadata": {
      "needs_background": "light"
     },
     "output_type": "display_data"
    }
   ],
   "source": [
    "plt.figure(figsize=(10,4))\n",
    "plt.plot(df_SL['Date'], df_SL['No. of confirmed cases'], 'b-')\n",
    "plt.plot(df_SL['Date'], df_SL['No. of confirmed deaths'], 'r-')\n",
    "plt.plot(df_NG['Date'], df_NG['No. of confirmed cases'], 'b--')\n",
    "plt.plot(df_NG['Date'], df_NG['No. of confirmed deaths'], 'r--')"
   ]
  },
  {
   "cell_type": "code",
   "execution_count": null,
   "metadata": {},
   "outputs": [],
   "source": [
    "df_SL"
   ]
  },
  {
   "cell_type": "code",
   "execution_count": 25,
   "metadata": {
    "ExecuteTime": {
     "end_time": "2020-04-26T02:43:28.105269Z",
     "start_time": "2020-04-26T02:43:28.099285Z"
    }
   },
   "outputs": [],
   "source": [
    "df_SL = df.loc[df.Date>'2014-10-03']"
   ]
  },
  {
   "cell_type": "code",
   "execution_count": 26,
   "metadata": {
    "ExecuteTime": {
     "end_time": "2020-04-26T02:43:33.743289Z",
     "start_time": "2020-04-26T02:43:33.731318Z"
    }
   },
   "outputs": [
    {
     "data": {
      "text/html": [
       "<div>\n",
       "<style scoped>\n",
       "    .dataframe tbody tr th:only-of-type {\n",
       "        vertical-align: middle;\n",
       "    }\n",
       "\n",
       "    .dataframe tbody tr th {\n",
       "        vertical-align: top;\n",
       "    }\n",
       "\n",
       "    .dataframe thead th {\n",
       "        text-align: right;\n",
       "    }\n",
       "</style>\n",
       "<table border=\"1\" class=\"dataframe\">\n",
       "  <thead>\n",
       "    <tr style=\"text-align: right;\">\n",
       "      <th></th>\n",
       "      <th>Country</th>\n",
       "      <th>Date</th>\n",
       "      <th>No. of suspected cases</th>\n",
       "      <th>No. of probable cases</th>\n",
       "      <th>No. of confirmed cases</th>\n",
       "      <th>No. of confirmed, probable and suspected cases</th>\n",
       "      <th>No. of suspected deaths</th>\n",
       "      <th>No. of probable deaths</th>\n",
       "      <th>No. of confirmed deaths</th>\n",
       "      <th>No. of confirmed, probable and suspected deaths</th>\n",
       "    </tr>\n",
       "  </thead>\n",
       "  <tbody>\n",
       "    <tr>\n",
       "      <th>55</th>\n",
       "      <td>Nigeria</td>\n",
       "      <td>2014-10-08</td>\n",
       "      <td>0.0</td>\n",
       "      <td>1.0</td>\n",
       "      <td>19.0</td>\n",
       "      <td>20.0</td>\n",
       "      <td>0.0</td>\n",
       "      <td>1.0</td>\n",
       "      <td>7.0</td>\n",
       "      <td>8.0</td>\n",
       "    </tr>\n",
       "    <tr>\n",
       "      <th>56</th>\n",
       "      <td>United States of America</td>\n",
       "      <td>2014-10-08</td>\n",
       "      <td>NaN</td>\n",
       "      <td>NaN</td>\n",
       "      <td>1.0</td>\n",
       "      <td>1.0</td>\n",
       "      <td>NaN</td>\n",
       "      <td>NaN</td>\n",
       "      <td>0.0</td>\n",
       "      <td>0.0</td>\n",
       "    </tr>\n",
       "    <tr>\n",
       "      <th>57</th>\n",
       "      <td>Senegal</td>\n",
       "      <td>2014-10-08</td>\n",
       "      <td>0.0</td>\n",
       "      <td>0.0</td>\n",
       "      <td>1.0</td>\n",
       "      <td>1.0</td>\n",
       "      <td>0.0</td>\n",
       "      <td>0.0</td>\n",
       "      <td>0.0</td>\n",
       "      <td>0.0</td>\n",
       "    </tr>\n",
       "    <tr>\n",
       "      <th>58</th>\n",
       "      <td>Guinea</td>\n",
       "      <td>2014-10-08</td>\n",
       "      <td>74.0</td>\n",
       "      <td>180.0</td>\n",
       "      <td>1044.0</td>\n",
       "      <td>1298.0</td>\n",
       "      <td>2.0</td>\n",
       "      <td>179.0</td>\n",
       "      <td>587.0</td>\n",
       "      <td>768.0</td>\n",
       "    </tr>\n",
       "    <tr>\n",
       "      <th>59</th>\n",
       "      <td>Sierra Leone</td>\n",
       "      <td>2014-10-08</td>\n",
       "      <td>297.0</td>\n",
       "      <td>37.0</td>\n",
       "      <td>2455.0</td>\n",
       "      <td>2789.0</td>\n",
       "      <td>31.0</td>\n",
       "      <td>123.0</td>\n",
       "      <td>725.0</td>\n",
       "      <td>879.0</td>\n",
       "    </tr>\n",
       "  </tbody>\n",
       "</table>\n",
       "</div>"
      ],
      "text/plain": [
       "                     Country        Date  No. of suspected cases  \\\n",
       "55                   Nigeria  2014-10-08                     0.0   \n",
       "56  United States of America  2014-10-08                     NaN   \n",
       "57                   Senegal  2014-10-08                     0.0   \n",
       "58                    Guinea  2014-10-08                    74.0   \n",
       "59              Sierra Leone  2014-10-08                   297.0   \n",
       "\n",
       "    No. of probable cases  No. of confirmed cases  \\\n",
       "55                    1.0                    19.0   \n",
       "56                    NaN                     1.0   \n",
       "57                    0.0                     1.0   \n",
       "58                  180.0                  1044.0   \n",
       "59                   37.0                  2455.0   \n",
       "\n",
       "    No. of confirmed, probable and suspected cases  No. of suspected deaths  \\\n",
       "55                                            20.0                      0.0   \n",
       "56                                             1.0                      NaN   \n",
       "57                                             1.0                      0.0   \n",
       "58                                          1298.0                      2.0   \n",
       "59                                          2789.0                     31.0   \n",
       "\n",
       "    No. of probable deaths  No. of confirmed deaths  \\\n",
       "55                     1.0                      7.0   \n",
       "56                     NaN                      0.0   \n",
       "57                     0.0                      0.0   \n",
       "58                   179.0                    587.0   \n",
       "59                   123.0                    725.0   \n",
       "\n",
       "    No. of confirmed, probable and suspected deaths  \n",
       "55                                              8.0  \n",
       "56                                              0.0  \n",
       "57                                              0.0  \n",
       "58                                            768.0  \n",
       "59                                            879.0  "
      ]
     },
     "execution_count": 26,
     "metadata": {},
     "output_type": "execute_result"
    }
   ],
   "source": [
    "df_SL.head()"
   ]
  },
  {
   "cell_type": "code",
   "execution_count": 27,
   "metadata": {
    "ExecuteTime": {
     "end_time": "2020-04-26T02:43:45.538086Z",
     "start_time": "2020-04-26T02:43:45.531607Z"
    }
   },
   "outputs": [
    {
     "data": {
      "text/plain": [
       "2430"
      ]
     },
     "execution_count": 27,
     "metadata": {},
     "output_type": "execute_result"
    }
   ],
   "source": [
    "len(df_SL)"
   ]
  },
  {
   "cell_type": "code",
   "execution_count": 28,
   "metadata": {
    "ExecuteTime": {
     "end_time": "2020-04-26T02:51:57.905701Z",
     "start_time": "2020-04-26T02:51:57.898719Z"
    }
   },
   "outputs": [
    {
     "data": {
      "text/plain": [
       "array(['Guinea', 'Nigeria', 'Sierra Leone', 'Liberia', 'Senegal',\n",
       "       'United States of America', 'Spain', 'Mali', 'United Kingdom',\n",
       "       'Italy'], dtype=object)"
      ]
     },
     "execution_count": 28,
     "metadata": {},
     "output_type": "execute_result"
    }
   ],
   "source": [
    "df.Country.unique()"
   ]
  },
  {
   "cell_type": "code",
   "execution_count": 30,
   "metadata": {
    "ExecuteTime": {
     "end_time": "2020-04-26T02:54:08.190964Z",
     "start_time": "2020-04-26T02:54:08.153325Z"
    }
   },
   "outputs": [
    {
     "data": {
      "text/plain": [
       "3589.0"
      ]
     },
     "execution_count": 30,
     "metadata": {},
     "output_type": "execute_result"
    }
   ],
   "source": [
    "df_SL[\"No. of confirmed deaths\"].max()"
   ]
  },
  {
   "cell_type": "code",
   "execution_count": 38,
   "metadata": {
    "ExecuteTime": {
     "end_time": "2020-04-26T02:57:41.789733Z",
     "start_time": "2020-04-26T02:57:41.766799Z"
    }
   },
   "outputs": [],
   "source": [
    "countries = []\n",
    "max_deaths = []\n",
    "for country in df.Country.unique():\n",
    "    countries.append(country)\n",
    "    df_country = df.loc[df.Country==country]\n",
    "    maxdeaths_per_country = df_country[\"No. of confirmed deaths\"].max()\n",
    "    max_deaths.append(maxdeaths_per_country)"
   ]
  },
  {
   "cell_type": "code",
   "execution_count": 39,
   "metadata": {
    "ExecuteTime": {
     "end_time": "2020-04-26T02:57:44.352854Z",
     "start_time": "2020-04-26T02:57:44.347895Z"
    }
   },
   "outputs": [
    {
     "data": {
      "text/plain": [
       "['Guinea',\n",
       " 'Nigeria',\n",
       " 'Sierra Leone',\n",
       " 'Liberia',\n",
       " 'Senegal',\n",
       " 'United States of America',\n",
       " 'Spain',\n",
       " 'Mali',\n",
       " 'United Kingdom',\n",
       " 'Italy']"
      ]
     },
     "execution_count": 39,
     "metadata": {},
     "output_type": "execute_result"
    }
   ],
   "source": [
    "countries"
   ]
  },
  {
   "cell_type": "code",
   "execution_count": 40,
   "metadata": {
    "ExecuteTime": {
     "end_time": "2020-04-26T02:57:44.989557Z",
     "start_time": "2020-04-26T02:57:44.978939Z"
    }
   },
   "outputs": [
    {
     "data": {
      "text/plain": [
       "[2083.0, 7.0, 3589.0, 3858.0, 0.0, 1.0, 0.0, 5.0, 0.0, 0.0]"
      ]
     },
     "execution_count": 40,
     "metadata": {},
     "output_type": "execute_result"
    }
   ],
   "source": [
    "max_deaths"
   ]
  },
  {
   "cell_type": "code",
   "execution_count": 43,
   "metadata": {
    "ExecuteTime": {
     "end_time": "2020-04-26T02:58:48.039549Z",
     "start_time": "2020-04-26T02:58:47.810648Z"
    }
   },
   "outputs": [
    {
     "data": {
      "text/plain": [
       "<BarContainer object of 10 artists>"
      ]
     },
     "execution_count": 43,
     "metadata": {},
     "output_type": "execute_result"
    },
    {
     "data": {
      "image/png": "[encoded data removed]",
      "text/plain": [
       "<Figure size 1080x288 with 1 Axes>"
      ]
     },
     "metadata": {
      "needs_background": "light"
     },
     "output_type": "display_data"
    }
   ],
   "source": [
    "plt.figure(figsize=(15,4))\n",
    "plt.bar(countries,max_deaths)"
   ]
  },
  {
   "cell_type": "code",
   "execution_count": null,
   "metadata": {},
   "outputs": [],
   "source": []
  }
 ],
 "metadata": {
  "kernelspec": {
   "display_name": "Python [conda env:nuit_sklearn]",
   "language": "python",
   "name": "conda-env-nuit_sklearn-py"
  },
  "language_info": {
   "codemirror_mode": {
    "name": "ipython",
    "version": 3
   },
   "file_extension": ".py",
   "mimetype": "text/x-python",
   "name": "python",
   "nbconvert_exporter": "python",
   "pygments_lexer": "ipython3",
   "version": "3.6.7"
  },
  "varInspector": {
   "cols": {
    "lenName": 16,
    "lenType": 16,
    "lenVar": 40
   },
   "kernels_config": {
    "python": {
     "delete_cmd_postfix": "",
     "delete_cmd_prefix": "del ",
     "library": "var_list.py",
     "varRefreshCmd": "print(var_dic_list())"
    },
    "r": {
     "delete_cmd_postfix": ") ",
     "delete_cmd_prefix": "rm(",
     "library": "var_list.r",
     "varRefreshCmd": "cat(var_dic_list()) "
    }
   },
   "types_to_exclude": [
    "module",
    "function",
    "builtin_function_or_method",
    "instance",
    "_Feature"
   ],
   "window_display": false
  }
 },
 "nbformat": 4,
 "nbformat_minor": 2
}
